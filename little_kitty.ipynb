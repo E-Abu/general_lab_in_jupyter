{
 "cells": [
  {
   "cell_type": "code",
   "execution_count": 1,
   "metadata": {},
   "outputs": [
    {
     "name": "stdout",
     "output_type": "stream",
     "text": [
      "/Users/hudiibm/anaconda3/envs/tf/bin/python\r\n"
     ]
    }
   ],
   "source": [
    "!which python"
   ]
  },
  {
   "cell_type": "code",
   "execution_count": 2,
   "metadata": {},
   "outputs": [],
   "source": [
    "import random\n",
    "\n",
    "class Cat:    \n",
    "    number = 0\n",
    "    patterns = ['纯色','虎斑','三花','狸花','豹纹','穿袜子','戴帽子']\n",
    "    colors = ['白','黑','灰','橘','黄','蓝']\n",
    "    shapes = ['胖呼呼的','大的','腿长的','很小很小的']\n",
    "    \n",
    "    def __init__(self, name, pattern='', colors=[], shape=''):\n",
    "        self.name = name\n",
    "        if pattern == '': self.pattern = random.choice(Cat.patterns)\n",
    "        else: self.pattern = pattern\n",
    "            \n",
    "        if shape == '': self.shape = random.choice(Cat.shapes)\n",
    "        else: self.shape = shape\n",
    "          \n",
    "        self.color=''\n",
    "        if colors == []:\n",
    "            for color in random.sample(Cat.colors,random.randint(1, 3)): \n",
    "                self.color += color\n",
    "        else:\n",
    "            for color in colors:\n",
    "                self.color += color\n",
    "        print('有一只{}色的{}{}猫出现你的家里！它的名字叫{}'.format(self.color,self.shape,self.pattern,self.name))\n",
    "        Cat.number += 1\n",
    "                \n",
    "    def say_miew(self):\n",
    "        print('🐱{}说：'.format(self.name) + '喵' * random.randint(1, 5) + '!~' +'喵' * random.randint(1, 10) + '!~')\n",
    "        \n",
    "    def feed(self):\n",
    "        print('🐱{}说：'.format(self.name) + '啊呜'* random.randint(5, 10))\n",
    "        self.love_you()\n",
    "        \n",
    "    def love_you(self):\n",
    "        if self.pattern == '虎斑':\n",
    "            print('{}蹭一蹭你的腿'.format(self.name))\n",
    "        if self.pattern == '纯色':\n",
    "            print('{}扒在你肚子上'.format(self.name))\n",
    "        if self.pattern == '三花':\n",
    "            print('{}跳到凳子上把你挤下去'.format(self.name))\n",
    "        if self.pattern == '狸花':\n",
    "            print('{}送给你小鱼干'.format(self.name))\n",
    "            \n",
    "    def fight(self, self2):\n",
    "        print('{}和{}打架了！！！'.format(self.name,self2.name))\n",
    "        \n",
    "        \n",
    "        \n",
    "    \n",
    "    #def sign_in(self):\n",
    "        "
   ]
  },
  {
   "cell_type": "code",
   "execution_count": 3,
   "metadata": {},
   "outputs": [
    {
     "name": "stdout",
     "output_type": "stream",
     "text": [
      "有一只蓝黑黄色的胖呼呼的三花猫出现你的家里！它的名字叫飞机\n"
     ]
    }
   ],
   "source": [
    "cat = Cat(name='飞机')"
   ]
  },
  {
   "cell_type": "code",
   "execution_count": 4,
   "metadata": {},
   "outputs": [
    {
     "name": "stdout",
     "output_type": "stream",
     "text": [
      "🐱飞机说：啊呜啊呜啊呜啊呜啊呜啊呜啊呜\n",
      "飞机跳到凳子上把你挤下去\n"
     ]
    }
   ],
   "source": [
    "cat.feed()"
   ]
  },
  {
   "cell_type": "code",
   "execution_count": 5,
   "metadata": {},
   "outputs": [
    {
     "name": "stdout",
     "output_type": "stream",
     "text": [
      "有一只白黑灰色的小小只的虎斑猫出现你的家里！它的名字叫花科长\n"
     ]
    }
   ],
   "source": [
    "little_cat = Cat(name='花科长', pattern='虎斑',shape='小小只的', colors=['白','黑','灰'])"
   ]
  },
  {
   "cell_type": "code",
   "execution_count": 6,
   "metadata": {},
   "outputs": [
    {
     "name": "stdout",
     "output_type": "stream",
     "text": [
      "🐱花科长说：喵喵喵喵喵!~喵喵喵喵!~\n"
     ]
    }
   ],
   "source": [
    "little_cat.say_miew()"
   ]
  },
  {
   "cell_type": "code",
   "execution_count": 7,
   "metadata": {},
   "outputs": [
    {
     "name": "stdout",
     "output_type": "stream",
     "text": [
      "🐱飞机说：喵喵喵!~喵喵喵喵喵!~\n"
     ]
    }
   ],
   "source": [
    "cat.say_miew()"
   ]
  },
  {
   "cell_type": "code",
   "execution_count": 8,
   "metadata": {},
   "outputs": [
    {
     "name": "stdout",
     "output_type": "stream",
     "text": [
      "🐱花科长说：喵喵喵喵!~喵喵喵喵喵喵!~\n"
     ]
    }
   ],
   "source": [
    "little_cat.say_miew()"
   ]
  },
  {
   "cell_type": "code",
   "execution_count": 9,
   "metadata": {},
   "outputs": [
    {
     "name": "stdout",
     "output_type": "stream",
     "text": [
      "飞机跳到凳子上把你挤下去\n"
     ]
    }
   ],
   "source": [
    "cat.love_you()"
   ]
  },
  {
   "cell_type": "code",
   "execution_count": 10,
   "metadata": {},
   "outputs": [
    {
     "name": "stdout",
     "output_type": "stream",
     "text": [
      "有一只蓝色的腿长的纯色猫出现你的家里！它的名字叫灰胖子\n"
     ]
    }
   ],
   "source": [
    "fat_cat = Cat(name='灰胖子', pattern='纯色', colors=['蓝'])"
   ]
  },
  {
   "cell_type": "code",
   "execution_count": 11,
   "metadata": {},
   "outputs": [
    {
     "name": "stdout",
     "output_type": "stream",
     "text": [
      "🐱灰胖子说：喵喵喵喵!~喵喵喵喵喵喵喵喵!~\n"
     ]
    }
   ],
   "source": [
    "fat_cat.say_miew()"
   ]
  },
  {
   "cell_type": "code",
   "execution_count": 12,
   "metadata": {},
   "outputs": [
    {
     "name": "stdout",
     "output_type": "stream",
     "text": [
      "灰胖子扒在你肚子上\n"
     ]
    }
   ],
   "source": [
    "fat_cat.love_you()"
   ]
  },
  {
   "cell_type": "code",
   "execution_count": 13,
   "metadata": {},
   "outputs": [
    {
     "name": "stdout",
     "output_type": "stream",
     "text": [
      "花科长和灰胖子打架了！！！\n"
     ]
    }
   ],
   "source": [
    "little_cat.fight(fat_cat)"
   ]
  },
  {
   "cell_type": "code",
   "execution_count": 35,
   "metadata": {},
   "outputs": [],
   "source": [
    "a=(1,1)\n"
   ]
  },
  {
   "cell_type": "code",
   "execution_count": 36,
   "metadata": {},
   "outputs": [],
   "source": [
    "b=(a)"
   ]
  },
  {
   "cell_type": "code",
   "execution_count": 37,
   "metadata": {},
   "outputs": [],
   "source": [
    "def add(x,y):\n",
    "    return x+y"
   ]
  },
  {
   "cell_type": "code",
   "execution_count": 38,
   "metadata": {},
   "outputs": [
    {
     "data": {
      "text/plain": [
       "2"
      ]
     },
     "execution_count": 38,
     "metadata": {},
     "output_type": "execute_result"
    }
   ],
   "source": [
    "add(*b)"
   ]
  },
  {
   "cell_type": "code",
   "execution_count": 31,
   "metadata": {},
   "outputs": [],
   "source": [
    "z = {'a':add}"
   ]
  },
  {
   "cell_type": "code",
   "execution_count": 34,
   "metadata": {},
   "outputs": [
    {
     "data": {
      "text/plain": [
       "2"
      ]
     },
     "execution_count": 34,
     "metadata": {},
     "output_type": "execute_result"
    }
   ],
   "source": [
    "z['a'](*a)"
   ]
  },
  {
   "cell_type": "code",
   "execution_count": 1,
   "metadata": {},
   "outputs": [],
   "source": [
    "a = {'epochs':100, 'batch_size':32, 'split_ratio':.2,'test_ratio':.2,'shuffle':True}"
   ]
  },
  {
   "cell_type": "code",
   "execution_count": 3,
   "metadata": {},
   "outputs": [],
   "source": [
    "del a['epochs']"
   ]
  },
  {
   "cell_type": "code",
   "execution_count": 4,
   "metadata": {},
   "outputs": [
    {
     "data": {
      "text/plain": [
       "{'batch_size': 32, 'split_ratio': 0.2, 'test_ratio': 0.2, 'shuffle': True}"
      ]
     },
     "execution_count": 4,
     "metadata": {},
     "output_type": "execute_result"
    }
   ],
   "source": [
    "a"
   ]
  },
  {
   "cell_type": "code",
   "execution_count": 8,
   "metadata": {},
   "outputs": [],
   "source": [
    "import keras\n",
    "\n",
    "fashion_mnist = keras.datasets.fashion_mnist\n",
    "(x, y), (test_images, test_labels) = fashion_mnist.load_data()"
   ]
  },
  {
   "cell_type": "code",
   "execution_count": 19,
   "metadata": {},
   "outputs": [
    {
     "data": {
      "text/plain": [
       "array([10127, 33638, 13463, ...,  7945, 48035,  8586])"
      ]
     },
     "execution_count": 19,
     "metadata": {},
     "output_type": "execute_result"
    }
   ],
   "source": [
    "import numpy as np\n",
    "ratio=.2\n",
    "select_num = int(len(x) * ratio)\n",
    "l = np.random.choice(len(x), select_num)\n",
    "l"
   ]
  },
  {
   "cell_type": "code",
   "execution_count": 20,
   "metadata": {},
   "outputs": [],
   "source": [
    "x_1 = np.array([x[i] for i in l])\n",
    "y_1 = np.array([y[i] for i in l])\n"
   ]
  },
  {
   "cell_type": "code",
   "execution_count": 25,
   "metadata": {},
   "outputs": [],
   "source": [
    "from sklearn.model_selection import train_test_split\n",
    "X_train, X_test, y_train, y_test = train_test_split(x, y, test_size=0.2)"
   ]
  },
  {
   "cell_type": "code",
   "execution_count": 26,
   "metadata": {},
   "outputs": [
    {
     "data": {
      "text/plain": [
       "(48000, 28, 28)"
      ]
     },
     "execution_count": 26,
     "metadata": {},
     "output_type": "execute_result"
    }
   ],
   "source": [
    "X_train.shape"
   ]
  },
  {
   "cell_type": "code",
   "execution_count": 27,
   "metadata": {},
   "outputs": [
    {
     "data": {
      "text/plain": [
       "(12000, 28, 28)"
      ]
     },
     "execution_count": 27,
     "metadata": {},
     "output_type": "execute_result"
    }
   ],
   "source": [
    "X_test.shape"
   ]
  },
  {
   "cell_type": "code",
   "execution_count": 1,
   "metadata": {},
   "outputs": [],
   "source": [
    "start  = [[1, 2, 3],\n",
    "          [0, 5, 6],\n",
    "          [4, 7, 8]]"
   ]
  },
  {
   "cell_type": "code",
   "execution_count": 12,
   "metadata": {},
   "outputs": [
    {
     "name": "stdout",
     "output_type": "stream",
     "text": [
      "(0, 0)\n",
      "(1, 0)\n"
     ]
    }
   ],
   "source": [
    "\n",
    "def findItem(theList, item):\n",
    "    result =  [(ind, theList[ind].index(item)) for ind in range(len(theList)) if item in theList[ind]]\n",
    "    return result[0]\n",
    "\n",
    "print(findItem(start, 1)) # [(0, 0)]\n",
    "print(findItem(start, 0)) # [(1, 2)]"
   ]
  },
  {
   "cell_type": "code",
   "execution_count": 15,
   "metadata": {},
   "outputs": [],
   "source": [
    "import numpy as np\n",
    "images = np.load('/Users/hudiibm/minilabs/tensorflow_getstart/from_lt/images.npy')\n",
    "images = images[:100]"
   ]
  },
  {
   "cell_type": "code",
   "execution_count": 17,
   "metadata": {},
   "outputs": [],
   "source": [
    "a = images[0]"
   ]
  },
  {
   "cell_type": "code",
   "execution_count": 18,
   "metadata": {},
   "outputs": [],
   "source": [
    "from skimage.transform import resize\n",
    "a = resize(a, (1194,938), mode='constant', preserve_range=True)"
   ]
  },
  {
   "cell_type": "code",
   "execution_count": 20,
   "metadata": {},
   "outputs": [
    {
     "data": {
      "text/plain": [
       "array([[0., 0., 0., ..., 0., 0., 0.],\n",
       "       [0., 0., 0., ..., 0., 0., 0.],\n",
       "       [0., 0., 0., ..., 0., 0., 0.],\n",
       "       ...,\n",
       "       [0., 0., 0., ..., 0., 0., 0.],\n",
       "       [0., 0., 0., ..., 0., 0., 0.],\n",
       "       [0., 0., 0., ..., 0., 0., 0.]])"
      ]
     },
     "execution_count": 20,
     "metadata": {},
     "output_type": "execute_result"
    }
   ],
   "source": [
    "a"
   ]
  },
  {
   "cell_type": "code",
   "execution_count": 8,
   "metadata": {},
   "outputs": [
    {
     "data": {
      "text/plain": [
       "[1]"
      ]
     },
     "execution_count": 8,
     "metadata": {},
     "output_type": "execute_result"
    }
   ],
   "source": [
    "d"
   ]
  },
  {
   "cell_type": "code",
   "execution_count": null,
   "metadata": {},
   "outputs": [],
   "source": []
  }
 ],
 "metadata": {
  "kernelspec": {
   "display_name": "Python 3",
   "language": "python",
   "name": "python3"
  },
  "language_info": {
   "codemirror_mode": {
    "name": "ipython",
    "version": 3
   },
   "file_extension": ".py",
   "mimetype": "text/x-python",
   "name": "python",
   "nbconvert_exporter": "python",
   "pygments_lexer": "ipython3",
   "version": "3.6.5"
  }
 },
 "nbformat": 4,
 "nbformat_minor": 2
}
